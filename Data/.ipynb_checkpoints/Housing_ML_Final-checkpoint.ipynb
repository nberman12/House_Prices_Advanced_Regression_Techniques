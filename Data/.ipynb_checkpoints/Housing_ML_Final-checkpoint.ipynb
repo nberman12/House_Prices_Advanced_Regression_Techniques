{
 "cells": [
  {
   "cell_type": "code",
   "execution_count": 1,
   "metadata": {},
   "outputs": [],
   "source": [
    "# Import basic modules\n",
    "import pandas as pd\n",
    "import numpy as np\n",
    "import matplotlib.pyplot as plt\n",
    "import seaborn as sns\n",
    "from sklearn.preprocessing import power_transform"
   ]
  },
  {
   "cell_type": "code",
   "execution_count": 2,
   "metadata": {},
   "outputs": [],
   "source": [
    "train=pd.read_csv(\"train.csv\")\n",
    "train.drop('Id', axis=1, inplace=True)"
   ]
  },
  {
   "cell_type": "code",
   "execution_count": 3,
   "metadata": {
    "tags": []
   },
   "outputs": [
    {
     "name": "stdout",
     "output_type": "stream",
     "text": [
      "Index(['MSZoning', 'Street', 'Alley', 'LotShape', 'LandContour', 'Utilities',\n",
      "       'LotConfig', 'LandSlope', 'Neighborhood', 'Condition1', 'Condition2',\n",
      "       'BldgType', 'HouseStyle', 'RoofStyle', 'RoofMatl', 'Exterior1st',\n",
      "       'Exterior2nd', 'MasVnrType', 'ExterQual', 'ExterCond', 'Foundation',\n",
      "       'BsmtQual', 'BsmtCond', 'BsmtExposure', 'BsmtFinType1', 'BsmtFinType2',\n",
      "       'Heating', 'HeatingQC', 'CentralAir', 'Electrical', 'KitchenQual',\n",
      "       'Functional', 'FireplaceQu', 'GarageType', 'GarageFinish', 'GarageQual',\n",
      "       'GarageCond', 'PavedDrive', 'PoolQC', 'Fence', 'MiscFeature',\n",
      "       'SaleType', 'SaleCondition'],\n",
      "      dtype='object')\n",
      "Index(['MSSubClass', 'LotFrontage', 'LotArea', 'OverallQual', 'OverallCond',\n",
      "       'YearBuilt', 'YearRemodAdd', 'MasVnrArea', 'BsmtFinSF1', 'BsmtFinSF2',\n",
      "       'BsmtUnfSF', 'TotalBsmtSF', '1stFlrSF', '2ndFlrSF', 'LowQualFinSF',\n",
      "       'GrLivArea', 'BsmtFullBath', 'BsmtHalfBath', 'FullBath', 'HalfBath',\n",
      "       'BedroomAbvGr', 'KitchenAbvGr', 'TotRmsAbvGrd', 'Fireplaces',\n",
      "       'GarageYrBlt', 'GarageCars', 'GarageArea', 'WoodDeckSF', 'OpenPorchSF',\n",
      "       'EnclosedPorch', '3SsnPorch', 'ScreenPorch', 'PoolArea', 'MiscVal',\n",
      "       'MoSold', 'YrSold', 'SalePrice'],\n",
      "      dtype='object')\n"
     ]
    }
   ],
   "source": [
    "train_numeric = train.dtypes[train.dtypes != \"object\"].index\n",
    "train_category = train.dtypes[train.dtypes == \"object\"].index\n",
    "\n",
    "print(train_category)\n",
    "print(train_numeric)"
   ]
  },
  {
   "cell_type": "code",
   "execution_count": 4,
   "metadata": {},
   "outputs": [
    {
     "data": {
      "text/html": [
       "<div>\n",
       "<style scoped>\n",
       "    .dataframe tbody tr th:only-of-type {\n",
       "        vertical-align: middle;\n",
       "    }\n",
       "\n",
       "    .dataframe tbody tr th {\n",
       "        vertical-align: top;\n",
       "    }\n",
       "\n",
       "    .dataframe thead th {\n",
       "        text-align: right;\n",
       "    }\n",
       "</style>\n",
       "<table border=\"1\" class=\"dataframe\">\n",
       "  <thead>\n",
       "    <tr style=\"text-align: right;\">\n",
       "      <th></th>\n",
       "      <th>Missing</th>\n",
       "      <th>Percent</th>\n",
       "    </tr>\n",
       "  </thead>\n",
       "  <tbody>\n",
       "    <tr>\n",
       "      <td>PoolQC</td>\n",
       "      <td>1453</td>\n",
       "      <td>99.520548</td>\n",
       "    </tr>\n",
       "    <tr>\n",
       "      <td>MiscFeature</td>\n",
       "      <td>1406</td>\n",
       "      <td>96.301370</td>\n",
       "    </tr>\n",
       "    <tr>\n",
       "      <td>Alley</td>\n",
       "      <td>1369</td>\n",
       "      <td>93.767123</td>\n",
       "    </tr>\n",
       "    <tr>\n",
       "      <td>Fence</td>\n",
       "      <td>1179</td>\n",
       "      <td>80.753425</td>\n",
       "    </tr>\n",
       "    <tr>\n",
       "      <td>FireplaceQu</td>\n",
       "      <td>690</td>\n",
       "      <td>47.260274</td>\n",
       "    </tr>\n",
       "    <tr>\n",
       "      <td>LotFrontage</td>\n",
       "      <td>259</td>\n",
       "      <td>17.739726</td>\n",
       "    </tr>\n",
       "    <tr>\n",
       "      <td>GarageType</td>\n",
       "      <td>81</td>\n",
       "      <td>5.547945</td>\n",
       "    </tr>\n",
       "    <tr>\n",
       "      <td>GarageCond</td>\n",
       "      <td>81</td>\n",
       "      <td>5.547945</td>\n",
       "    </tr>\n",
       "    <tr>\n",
       "      <td>GarageFinish</td>\n",
       "      <td>81</td>\n",
       "      <td>5.547945</td>\n",
       "    </tr>\n",
       "    <tr>\n",
       "      <td>GarageQual</td>\n",
       "      <td>81</td>\n",
       "      <td>5.547945</td>\n",
       "    </tr>\n",
       "    <tr>\n",
       "      <td>GarageYrBlt</td>\n",
       "      <td>81</td>\n",
       "      <td>5.547945</td>\n",
       "    </tr>\n",
       "    <tr>\n",
       "      <td>BsmtFinType2</td>\n",
       "      <td>38</td>\n",
       "      <td>2.602740</td>\n",
       "    </tr>\n",
       "    <tr>\n",
       "      <td>BsmtExposure</td>\n",
       "      <td>38</td>\n",
       "      <td>2.602740</td>\n",
       "    </tr>\n",
       "    <tr>\n",
       "      <td>BsmtQual</td>\n",
       "      <td>37</td>\n",
       "      <td>2.534247</td>\n",
       "    </tr>\n",
       "    <tr>\n",
       "      <td>BsmtCond</td>\n",
       "      <td>37</td>\n",
       "      <td>2.534247</td>\n",
       "    </tr>\n",
       "    <tr>\n",
       "      <td>BsmtFinType1</td>\n",
       "      <td>37</td>\n",
       "      <td>2.534247</td>\n",
       "    </tr>\n",
       "    <tr>\n",
       "      <td>MasVnrArea</td>\n",
       "      <td>8</td>\n",
       "      <td>0.547945</td>\n",
       "    </tr>\n",
       "    <tr>\n",
       "      <td>MasVnrType</td>\n",
       "      <td>8</td>\n",
       "      <td>0.547945</td>\n",
       "    </tr>\n",
       "    <tr>\n",
       "      <td>Electrical</td>\n",
       "      <td>1</td>\n",
       "      <td>0.068493</td>\n",
       "    </tr>\n",
       "  </tbody>\n",
       "</table>\n",
       "</div>"
      ],
      "text/plain": [
       "              Missing    Percent\n",
       "PoolQC           1453  99.520548\n",
       "MiscFeature      1406  96.301370\n",
       "Alley            1369  93.767123\n",
       "Fence            1179  80.753425\n",
       "FireplaceQu       690  47.260274\n",
       "LotFrontage       259  17.739726\n",
       "GarageType         81   5.547945\n",
       "GarageCond         81   5.547945\n",
       "GarageFinish       81   5.547945\n",
       "GarageQual         81   5.547945\n",
       "GarageYrBlt        81   5.547945\n",
       "BsmtFinType2       38   2.602740\n",
       "BsmtExposure       38   2.602740\n",
       "BsmtQual           37   2.534247\n",
       "BsmtCond           37   2.534247\n",
       "BsmtFinType1       37   2.534247\n",
       "MasVnrArea          8   0.547945\n",
       "MasVnrType          8   0.547945\n",
       "Electrical          1   0.068493"
      ]
     },
     "execution_count": 4,
     "metadata": {},
     "output_type": "execute_result"
    }
   ],
   "source": [
    "total = train.isnull().sum().sort_values(\n",
    "        ascending=False)[train.isnull().sum().sort_values(ascending=False) != 0]\n",
    "percent = (train.isnull().sum().sort_values(ascending=False) / len(train) *\n",
    "               100)[(train.isnull().sum().sort_values(ascending=False) / len(train) *\n",
    "                     100) != 0]\n",
    "missing_values = pd.concat([total,percent], axis=1, keys=['Missing','Percent'])\n",
    "missing_values"
   ]
  },
  {
   "cell_type": "code",
   "execution_count": 5,
   "metadata": {},
   "outputs": [],
   "source": [
    "# for col in train_category:\n",
    "#      train[col]=train[col].replace(np.nan, train[col].mode()[0], inplace=True)\n",
    "for col in train_numeric:\n",
    "    train[col].replace(np.nan, train[col].median(), inplace=True)\n",
    "    train[col].replace(0.000000, 0.000001, inplace=True)\n",
    "\n",
    "train = train.drop((missing_values[missing_values['Missing']>1]).index,1)\n",
    "train = train.drop(train.loc[train['Electrical'].isnull()].index)\n"
   ]
  },
  {
   "cell_type": "code",
   "execution_count": 6,
   "metadata": {},
   "outputs": [
    {
     "data": {
      "text/html": [
       "<div>\n",
       "<style scoped>\n",
       "    .dataframe tbody tr th:only-of-type {\n",
       "        vertical-align: middle;\n",
       "    }\n",
       "\n",
       "    .dataframe tbody tr th {\n",
       "        vertical-align: top;\n",
       "    }\n",
       "\n",
       "    .dataframe thead th {\n",
       "        text-align: right;\n",
       "    }\n",
       "</style>\n",
       "<table border=\"1\" class=\"dataframe\">\n",
       "  <thead>\n",
       "    <tr style=\"text-align: right;\">\n",
       "      <th></th>\n",
       "      <th>Missing</th>\n",
       "      <th>Percent</th>\n",
       "    </tr>\n",
       "  </thead>\n",
       "  <tbody>\n",
       "  </tbody>\n",
       "</table>\n",
       "</div>"
      ],
      "text/plain": [
       "Empty DataFrame\n",
       "Columns: [Missing, Percent]\n",
       "Index: []"
      ]
     },
     "execution_count": 6,
     "metadata": {},
     "output_type": "execute_result"
    }
   ],
   "source": [
    "total = train.isnull().sum().sort_values(\n",
    "        ascending=False)[train.isnull().sum().sort_values(ascending=False) != 0]\n",
    "percent = (train.isnull().sum().sort_values(ascending=False) / len(train) *\n",
    "               100)[(train.isnull().sum().sort_values(ascending=False) / len(train) *\n",
    "                     100) != 0]\n",
    "missing_values = pd.concat([total,percent], axis=1, keys=['Missing','Percent'])\n",
    "missing_values.head(20)"
   ]
  },
  {
   "cell_type": "code",
   "execution_count": 7,
   "metadata": {},
   "outputs": [
    {
     "data": {
      "image/png": "[encoded data removed]",
      "text/plain": [
       "<Figure size 432x288 with 1 Axes>"
      ]
     },
     "metadata": {
      "needs_background": "light"
     },
     "output_type": "display_data"
    }
   ],
   "source": [
    "top20 = pd.concat([train.corr()['SalePrice'].sort_values(ascending=False)[1:15], train.corr()['SalePrice'].sort_values(ascending=False)[-15:]])\n",
    "ax = top20.plot.bar()\n",
    "ax.set_ylim(-1.0, 1.0)\n",
    "plt.title(\"Correlations to SalePrice - Top 15 Positive & Negative\")\n",
    "plt.xlabel(\"Feature\")\n",
    "plt.ylabel(\"Correlation Coefficient\")\n",
    "plt.grid(False)\n",
    "plt.show()"
   ]
  },
  {
   "cell_type": "code",
   "execution_count": 8,
   "metadata": {},
   "outputs": [
    {
     "data": {
      "image/png": "[encoded data removed]",
      "text/plain": [
       "<Figure size 432x288 with 1 Axes>"
      ]
     },
     "metadata": {
      "needs_background": "light"
     },
     "output_type": "display_data"
    },
    {
     "data": {
      "image/png": "[encoded data removed]",
      "text/plain": [
       "<Figure size 432x288 with 1 Axes>"
      ]
     },
     "metadata": {
      "needs_background": "light"
     },
     "output_type": "display_data"
    }
   ],
   "source": [
    "from scipy.stats import norm\n",
    "from scipy import stats\n",
    "sns.distplot(train.SalePrice, fit=norm);\n",
    "fig = plt.figure()\n",
    "res = stats.probplot(train.SalePrice, plot=plt)"
   ]
  },
  {
   "cell_type": "code",
   "execution_count": 9,
   "metadata": {
    "tags": []
   },
   "outputs": [
    {
     "name": "stderr",
     "output_type": "stream",
     "text": [
      "C:\\Users\\nateb\\Anaconda3\\lib\\site-packages\\numpy\\core\\_methods.py:195: RuntimeWarning: overflow encountered in multiply\n",
      "  x = um.multiply(x, x, out=x)\n"
     ]
    },
    {
     "data": {
      "text/html": [
       "<div>\n",
       "<style scoped>\n",
       "    .dataframe tbody tr th:only-of-type {\n",
       "        vertical-align: middle;\n",
       "    }\n",
       "\n",
       "    .dataframe tbody tr th {\n",
       "        vertical-align: top;\n",
       "    }\n",
       "\n",
       "    .dataframe thead th {\n",
       "        text-align: right;\n",
       "    }\n",
       "</style>\n",
       "<table border=\"1\" class=\"dataframe\">\n",
       "  <thead>\n",
       "    <tr style=\"text-align: right;\">\n",
       "      <th></th>\n",
       "      <th>OverallQual</th>\n",
       "      <th>YearBuilt</th>\n",
       "      <th>YearRemodAdd</th>\n",
       "      <th>TotalBsmtSF</th>\n",
       "      <th>1stFlrSF</th>\n",
       "      <th>GrLivArea</th>\n",
       "      <th>FullBath</th>\n",
       "      <th>TotRmsAbvGrd</th>\n",
       "      <th>GarageCars</th>\n",
       "      <th>GarageArea</th>\n",
       "      <th>SalePrice</th>\n",
       "      <th>Fireplaces</th>\n",
       "      <th>BsmtFinSF1</th>\n",
       "      <th>WoodDeckSF</th>\n",
       "      <th>2ndFlrSF</th>\n",
       "    </tr>\n",
       "  </thead>\n",
       "  <tbody>\n",
       "    <tr>\n",
       "      <td>0</td>\n",
       "      <td>0.665074</td>\n",
       "      <td>1.152904</td>\n",
       "      <td>0.909006</td>\n",
       "      <td>-0.344028</td>\n",
       "      <td>-0.800616</td>\n",
       "      <td>0.528249</td>\n",
       "      <td>0.796894</td>\n",
       "      <td>0.943776</td>\n",
       "      <td>0.361842</td>\n",
       "      <td>0.409717</td>\n",
       "      <td>0.570980</td>\n",
       "      <td>-1.056609</td>\n",
       "      <td>0.754157</td>\n",
       "      <td>-0.957036</td>\n",
       "      <td>1.154933</td>\n",
       "    </tr>\n",
       "    <tr>\n",
       "      <td>1</td>\n",
       "      <td>-0.044991</td>\n",
       "      <td>0.007832</td>\n",
       "      <td>-0.620610</td>\n",
       "      <td>0.514789</td>\n",
       "      <td>0.428200</td>\n",
       "      <td>-0.382695</td>\n",
       "      <td>0.796894</td>\n",
       "      <td>-0.234524</td>\n",
       "      <td>0.361842</td>\n",
       "      <td>0.098643</td>\n",
       "      <td>0.227572</td>\n",
       "      <td>0.926720</td>\n",
       "      <td>0.842474</td>\n",
       "      <td>1.095922</td>\n",
       "      <td>-0.871649</td>\n",
       "    </tr>\n",
       "    <tr>\n",
       "      <td>2</td>\n",
       "      <td>0.665074</td>\n",
       "      <td>1.056422</td>\n",
       "      <td>0.836583</td>\n",
       "      <td>-0.198729</td>\n",
       "      <td>-0.569561</td>\n",
       "      <td>0.658787</td>\n",
       "      <td>0.796894</td>\n",
       "      <td>-0.234524</td>\n",
       "      <td>0.361842</td>\n",
       "      <td>0.608043</td>\n",
       "      <td>0.741635</td>\n",
       "      <td>0.926720</td>\n",
       "      <td>0.656715</td>\n",
       "      <td>-0.957036</td>\n",
       "      <td>1.155812</td>\n",
       "    </tr>\n",
       "    <tr>\n",
       "      <td>3</td>\n",
       "      <td>0.665074</td>\n",
       "      <td>-1.629417</td>\n",
       "      <td>-0.862569</td>\n",
       "      <td>-0.580590</td>\n",
       "      <td>-0.430468</td>\n",
       "      <td>0.540510</td>\n",
       "      <td>-1.007252</td>\n",
       "      <td>0.387692</td>\n",
       "      <td>1.353329</td>\n",
       "      <td>0.716215</td>\n",
       "      <td>-0.425218</td>\n",
       "      <td>0.926720</td>\n",
       "      <td>0.458166</td>\n",
       "      <td>-0.957036</td>\n",
       "      <td>1.147227</td>\n",
       "    </tr>\n",
       "    <tr>\n",
       "      <td>4</td>\n",
       "      <td>1.351475</td>\n",
       "      <td>1.008938</td>\n",
       "      <td>0.695954</td>\n",
       "      <td>0.281115</td>\n",
       "      <td>0.123679</td>\n",
       "      <td>1.282396</td>\n",
       "      <td>0.796894</td>\n",
       "      <td>1.447842</td>\n",
       "      <td>1.353329</td>\n",
       "      <td>1.286337</td>\n",
       "      <td>1.014964</td>\n",
       "      <td>0.926720</td>\n",
       "      <td>0.734274</td>\n",
       "      <td>1.055732</td>\n",
       "      <td>1.168086</td>\n",
       "    </tr>\n",
       "  </tbody>\n",
       "</table>\n",
       "</div>"
      ],
      "text/plain": [
       "   OverallQual  YearBuilt  YearRemodAdd  TotalBsmtSF  1stFlrSF  GrLivArea  \\\n",
       "0     0.665074   1.152904      0.909006    -0.344028 -0.800616   0.528249   \n",
       "1    -0.044991   0.007832     -0.620610     0.514789  0.428200  -0.382695   \n",
       "2     0.665074   1.056422      0.836583    -0.198729 -0.569561   0.658787   \n",
       "3     0.665074  -1.629417     -0.862569    -0.580590 -0.430468   0.540510   \n",
       "4     1.351475   1.008938      0.695954     0.281115  0.123679   1.282396   \n",
       "\n",
       "   FullBath  TotRmsAbvGrd  GarageCars  GarageArea  SalePrice  Fireplaces  \\\n",
       "0  0.796894      0.943776    0.361842    0.409717   0.570980   -1.056609   \n",
       "1  0.796894     -0.234524    0.361842    0.098643   0.227572    0.926720   \n",
       "2  0.796894     -0.234524    0.361842    0.608043   0.741635    0.926720   \n",
       "3 -1.007252      0.387692    1.353329    0.716215  -0.425218    0.926720   \n",
       "4  0.796894      1.447842    1.353329    1.286337   1.014964    0.926720   \n",
       "\n",
       "   BsmtFinSF1  WoodDeckSF  2ndFlrSF  \n",
       "0    0.754157   -0.957036  1.154933  \n",
       "1    0.842474    1.095922 -0.871649  \n",
       "2    0.656715   -0.957036  1.155812  \n",
       "3    0.458166   -0.957036  1.147227  \n",
       "4    0.734274    1.055732  1.168086  "
      ]
     },
     "execution_count": 9,
     "metadata": {},
     "output_type": "execute_result"
    }
   ],
   "source": [
    "train=train[['OverallQual',\n",
    " 'YearBuilt',\n",
    " 'YearRemodAdd',\n",
    " 'TotalBsmtSF',\n",
    " '1stFlrSF',\n",
    " 'GrLivArea',\n",
    " 'FullBath',\n",
    " 'TotRmsAbvGrd',\n",
    " 'GarageCars',\n",
    " 'GarageArea',\n",
    " 'SalePrice',\n",
    " 'Fireplaces',\n",
    " 'BsmtFinSF1',\n",
    " 'WoodDeckSF',\n",
    " '2ndFlrSF']]\n",
    "\n",
    "# train.dtypes\n",
    "train_data=pd.DataFrame((power_transform(train,method='box-cox')),columns=train.columns)\n",
    "train_data.head()"
   ]
  },
  {
   "cell_type": "code",
   "execution_count": 10,
   "metadata": {},
   "outputs": [
    {
     "data": {
      "image/png": "[encoded data removed]",
      "text/plain": [
       "<Figure size 432x288 with 1 Axes>"
      ]
     },
     "metadata": {
      "needs_background": "light"
     },
     "output_type": "display_data"
    },
    {
     "data": {
      "image/png": "[encoded data removed]",
      "text/plain": [
       "<Figure size 432x288 with 1 Axes>"
      ]
     },
     "metadata": {
      "needs_background": "light"
     },
     "output_type": "display_data"
    }
   ],
   "source": [
    "# train.SalePrice = np.log(train.SalePrice)\n",
    "\n",
    "sns.distplot(train_data.SalePrice, fit=norm);\n",
    "fig = plt.figure()\n",
    "res = stats.probplot(train_data.SalePrice,plot=plt)"
   ]
  },
  {
   "cell_type": "code",
   "execution_count": 11,
   "metadata": {
    "tags": []
   },
   "outputs": [
    {
     "name": "stdout",
     "output_type": "stream",
     "text": [
      "(977, 14) (977,)\n"
     ]
    }
   ],
   "source": [
    "# Train-test split\n",
    "from sklearn.model_selection import train_test_split\n",
    "\n",
    "X = train_data.drop(['SalePrice'], axis=1).values\n",
    "\n",
    "# Square root of the output to make high values less dominant\n",
    "y = (train_data['SalePrice'].values)\n",
    "\n",
    "X_train, X_test, y_train, y_test = train_test_split(X, y, test_size=0.33, random_state=42)\n",
    "\n",
    "print(X_train.shape,y_train.shape)"
   ]
  },
  {
   "cell_type": "code",
   "execution_count": 12,
   "metadata": {
    "tags": []
   },
   "outputs": [
    {
     "name": "stderr",
     "output_type": "stream",
     "text": [
      "C:\\Users\\nateb\\Anaconda3\\lib\\site-packages\\sklearn\\model_selection\\_split.py:1978: FutureWarning: The default value of cv will change from 3 to 5 in version 0.22. Specify it explicitly to silence this warning.\n",
      "  warnings.warn(CV_WARNING, FutureWarning)\n",
      "C:\\Users\\nateb\\Anaconda3\\lib\\site-packages\\sklearn\\model_selection\\_validation.py:516: UserWarning: With alpha=0, this algorithm does not converge well. You are advised to use the LinearRegression estimator\n",
      "  estimator.fit(X_train, y_train, **fit_params)\n",
      "C:\\Users\\nateb\\Anaconda3\\lib\\site-packages\\sklearn\\linear_model\\coordinate_descent.py:475: UserWarning: Coordinate descent with no regularization may lead to unexpected results and is discouraged.\n",
      "  positive)\n",
      "C:\\Users\\nateb\\Anaconda3\\lib\\site-packages\\sklearn\\linear_model\\coordinate_descent.py:475: ConvergenceWarning: Objective did not converge. You might want to increase the number of iterations. Duality gap: 38.25452447460603, tolerance: 0.05719614552392829\n",
      "  positive)\n",
      "C:\\Users\\nateb\\Anaconda3\\lib\\site-packages\\sklearn\\model_selection\\_validation.py:516: UserWarning: With alpha=0, this algorithm does not converge well. You are advised to use the LinearRegression estimator\n",
      "  estimator.fit(X_train, y_train, **fit_params)\n",
      "C:\\Users\\nateb\\Anaconda3\\lib\\site-packages\\sklearn\\linear_model\\coordinate_descent.py:475: UserWarning: Coordinate descent with no regularization may lead to unexpected results and is discouraged.\n",
      "  positive)\n",
      "C:\\Users\\nateb\\Anaconda3\\lib\\site-packages\\sklearn\\linear_model\\coordinate_descent.py:475: ConvergenceWarning: Objective did not converge. You might want to increase the number of iterations. Duality gap: 46.2366292683958, tolerance: 0.05888270378938778\n",
      "  positive)\n",
      "C:\\Users\\nateb\\Anaconda3\\lib\\site-packages\\sklearn\\model_selection\\_validation.py:516: UserWarning: With alpha=0, this algorithm does not converge well. You are advised to use the LinearRegression estimator\n",
      "  estimator.fit(X_train, y_train, **fit_params)\n",
      "C:\\Users\\nateb\\Anaconda3\\lib\\site-packages\\sklearn\\linear_model\\coordinate_descent.py:475: UserWarning: Coordinate descent with no regularization may lead to unexpected results and is discouraged.\n",
      "  positive)\n",
      "C:\\Users\\nateb\\Anaconda3\\lib\\site-packages\\sklearn\\linear_model\\coordinate_descent.py:475: ConvergenceWarning: Objective did not converge. You might want to increase the number of iterations. Duality gap: 51.12054218427125, tolerance: 0.06366359051546752\n",
      "  positive)\n",
      "C:\\Users\\nateb\\Anaconda3\\lib\\site-packages\\sklearn\\model_selection\\_split.py:1978: FutureWarning: The default value of cv will change from 3 to 5 in version 0.22. Specify it explicitly to silence this warning.\n",
      "  warnings.warn(CV_WARNING, FutureWarning)\n",
      "C:\\Users\\nateb\\Anaconda3\\lib\\site-packages\\sklearn\\model_selection\\_validation.py:516: UserWarning: With alpha=0, this algorithm does not converge well. You are advised to use the LinearRegression estimator\n",
      "  estimator.fit(X_train, y_train, **fit_params)\n",
      "C:\\Users\\nateb\\Anaconda3\\lib\\site-packages\\sklearn\\linear_model\\coordinate_descent.py:475: UserWarning: Coordinate descent with no regularization may lead to unexpected results and is discouraged.\n",
      "  positive)\n",
      "C:\\Users\\nateb\\Anaconda3\\lib\\site-packages\\sklearn\\linear_model\\coordinate_descent.py:475: ConvergenceWarning: Objective did not converge. You might want to increase the number of iterations. Duality gap: 24.04546440295472, tolerance: 0.03907252880095196\n",
      "  positive)\n",
      "C:\\Users\\nateb\\Anaconda3\\lib\\site-packages\\sklearn\\model_selection\\_validation.py:516: UserWarning: With alpha=0, this algorithm does not converge well. You are advised to use the LinearRegression estimator\n",
      "  estimator.fit(X_train, y_train, **fit_params)\n",
      "C:\\Users\\nateb\\Anaconda3\\lib\\site-packages\\sklearn\\linear_model\\coordinate_descent.py:475: UserWarning: Coordinate descent with no regularization may lead to unexpected results and is discouraged.\n",
      "  positive)\n",
      "C:\\Users\\nateb\\Anaconda3\\lib\\site-packages\\sklearn\\linear_model\\coordinate_descent.py:475: ConvergenceWarning: Objective did not converge. You might want to increase the number of iterations. Duality gap: 22.827287004041594, tolerance: 0.03790941221205319\n",
      "  positive)\n",
      "C:\\Users\\nateb\\Anaconda3\\lib\\site-packages\\sklearn\\model_selection\\_validation.py:516: UserWarning: With alpha=0, this algorithm does not converge well. You are advised to use the LinearRegression estimator\n",
      "  estimator.fit(X_train, y_train, **fit_params)\n",
      "C:\\Users\\nateb\\Anaconda3\\lib\\site-packages\\sklearn\\linear_model\\coordinate_descent.py:475: UserWarning: Coordinate descent with no regularization may lead to unexpected results and is discouraged.\n",
      "  positive)\n",
      "C:\\Users\\nateb\\Anaconda3\\lib\\site-packages\\sklearn\\linear_model\\coordinate_descent.py:475: ConvergenceWarning: Objective did not converge. You might want to increase the number of iterations. Duality gap: 21.767784094854385, tolerance: 0.0350239569345639\n",
      "  positive)\n"
     ]
    },
    {
     "name": "stdout",
     "output_type": "stream",
     "text": [
      "Linear Regression training score: 0.8462703454590321\n",
      "Linear Regression test score: 0.8598790679349718\n",
      "Linear Regression MSE: 0.1628601803777612\n",
      "Best Alpha: 0.001\n",
      "Lasso training score for alpha=0.001: 0.833881135194252\n",
      "Lasso testing score for alpha=0.001: 0.8644782026844766\n",
      "Lasso Regression MSE: 0.14476825932906878\n"
     ]
    }
   ],
   "source": [
    "from sklearn.linear_model import Lasso\n",
    "from sklearn.linear_model import LinearRegression\n",
    "from sklearn.model_selection import GridSearchCV\n",
    "from sklearn.metrics import mean_squared_error\n",
    "\n",
    "alphas=np.array([1,0.1,0.01,0.001,0.0001,0])\n",
    "model=Lasso()\n",
    "grid=GridSearchCV(estimator=model,param_grid=dict(alpha=alphas))\n",
    "train_fit=grid.fit(X_train,y_train)\n",
    "grid_train_score=grid.best_score_\n",
    "test_fit=grid.fit(X_test,y_test)\n",
    "grid_test_score=grid.best_score_\n",
    "predictions=grid.predict(X_test)\n",
    "lass_MSE=mean_squared_error(y_test,predictions)\n",
    "\n",
    "alpha=grid.best_estimator_.alpha\n",
    "\n",
    "lr = LinearRegression()\n",
    "lr.fit(X_train,y_train)\n",
    "lr_train_score=lr.score(X_train,y_train)\n",
    "lr_test_score=lr.score(X_test,y_test)\n",
    "lr_predictions=lr.predict(X_test)\n",
    "lr_MSE=mean_squared_error(y_test,lr_predictions)\n",
    "\n",
    "\n",
    "print(f\"Linear Regression training score: {lr_train_score}\") \n",
    "print(f\"Linear Regression test score: {lr_test_score}\")\n",
    "print(f\"Linear Regression MSE: {lr_MSE}\")\n",
    "\n",
    "\n",
    "print(f\"Best Alpha: {grid.best_estimator_.alpha}\")\n",
    "print(f\"Lasso training score for alpha={alpha}: {grid_train_score}\") \n",
    "print(f\"Lasso testing score for alpha={alpha}: {grid_test_score}\")\n",
    "print(f\"Lasso Regression MSE: {lass_MSE}\")\n",
    "# print(f\"number of features used for alpha={alpha}: {coeff_used00001}\")\n",
    "\n"
   ]
  },
  {
   "cell_type": "code",
   "execution_count": 13,
   "metadata": {},
   "outputs": [
    {
     "data": {
      "image/png": "[encoded data removed]",
      "text/plain": [
       "<Figure size 432x288 with 1 Axes>"
      ]
     },
     "metadata": {
      "needs_background": "light"
     },
     "output_type": "display_data"
    }
   ],
   "source": [
    "plt.scatter(grid.predict(X_train), grid.predict(X_train) - y_train, c=\"blue\", label=\"Training Data\")\n",
    "plt.scatter(grid.predict(X_test), grid.predict(X_test) - y_test, c=\"orange\", label=\"Testing Data\")\n",
    "plt.legend()\n",
    "plt.hlines(y=0, xmin=y_test.min(), xmax=y_test.max())\n",
    "plt.title(\"Residual Plot\")\n",
    "plt.show()"
   ]
  },
  {
   "cell_type": "code",
   "execution_count": null,
   "metadata": {},
   "outputs": [],
   "source": []
  },
  {
   "cell_type": "code",
   "execution_count": null,
   "metadata": {},
   "outputs": [],
   "source": []
  }
 ],
 "metadata": {
  "kernelspec": {
   "display_name": "Python 3",
   "language": "python",
   "name": "python3"
  },
  "language_info": {
   "codemirror_mode": {
    "name": "ipython",
    "version": 3
   },
   "file_extension": ".py",
   "mimetype": "text/x-python",
   "name": "python",
   "nbconvert_exporter": "python",
   "pygments_lexer": "ipython3",
   "version": "3.7.4"
  }
 },
 "nbformat": 4,
 "nbformat_minor": 2
}
